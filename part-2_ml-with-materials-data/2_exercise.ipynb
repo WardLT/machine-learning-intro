{
 "cells": [
  {
   "cell_type": "markdown",
   "id": "82e6d636-7420-4a5b-97c4-975aee6c76d3",
   "metadata": {},
   "source": [
    "# Make-Your-Own Machine Learning Model\n",
    "This notebook is a place for you to learn to explore machine learning models better.\n",
    "Scikit-learn has a rich set of [supervised learning algorithms](https://scikit-learn.org/stable/supervised_learning.html#supervised-learning).\n",
    "You've now learned how to train a few of them, how to convert scientific data to a form compatible with them, and how to optimize the performance. \n",
    "The next step is for you to do this from scratch."
   ]
  },
  {
   "cell_type": "code",
   "execution_count": 2,
   "id": "9ffd74fc-fffe-425d-8b76-94f81b063e13",
   "metadata": {},
   "outputs": [],
   "source": [
    "from sklearn.model_selection import train_test_split\n",
    "import pandas as pd"
   ]
  },
  {
   "cell_type": "markdown",
   "id": "d4303885-911a-4836-b7ca-78b6740ffeb0",
   "metadata": {},
   "source": [
    "## Make a Test Set\n",
    "We're going to split off 1000 entries from the dataset. Do not use these in training and try to predict the bandgap for them using any bit of the data from the training set."
   ]
  },
  {
   "cell_type": "code",
   "execution_count": 3,
   "id": "f905f835-4a14-47fc-b2b2-d268fe6dfc73",
   "metadata": {},
   "outputs": [],
   "source": [
    "data = pd.read_json('datasets/qm9.json.gz', lines=True)"
   ]
  },
  {
   "cell_type": "code",
   "execution_count": 4,
   "id": "6747b927-5667-4c92-9208-c5993fc6548b",
   "metadata": {},
   "outputs": [],
   "source": [
    "train_data, test_data = train_test_split(data, test_size=1000, random_state=1)"
   ]
  },
  {
   "cell_type": "markdown",
   "id": "021cd97a-8565-4aa4-819d-6bce1fd9ca7b",
   "metadata": {},
   "source": [
    "## Evaluate Performance\n",
    "Measure the mean absolute error for predictions on the test set"
   ]
  },
  {
   "cell_type": "code",
   "execution_count": null,
   "id": "983e6b8a-b783-4855-8b18-3d06017ff876",
   "metadata": {},
   "outputs": [],
   "source": []
  }
 ],
 "metadata": {
  "kernelspec": {
   "display_name": "Python 3 (ipykernel)",
   "language": "python",
   "name": "python3"
  },
  "language_info": {
   "codemirror_mode": {
    "name": "ipython",
    "version": 3
   },
   "file_extension": ".py",
   "mimetype": "text/x-python",
   "name": "python",
   "nbconvert_exporter": "python",
   "pygments_lexer": "ipython3",
   "version": "3.7.11"
  }
 },
 "nbformat": 4,
 "nbformat_minor": 5
}
